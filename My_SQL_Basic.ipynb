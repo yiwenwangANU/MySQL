{
  "nbformat": 4,
  "nbformat_minor": 0,
  "metadata": {
    "colab": {
      "name": "My SQL Basic.ipynb",
      "provenance": [],
      "authorship_tag": "ABX9TyMON2Zt4TcETslvwvQlCamr",
      "include_colab_link": true
    },
    "kernelspec": {
      "name": "python3",
      "display_name": "Python 3"
    },
    "language_info": {
      "name": "python"
    }
  },
  "cells": [
    {
      "cell_type": "markdown",
      "metadata": {
        "id": "view-in-github",
        "colab_type": "text"
      },
      "source": [
        "<a href=\"https://colab.research.google.com/github/yiwenwangANU/MySQL/blob/main/My_SQL_Basic.ipynb\" target=\"_parent\"><img src=\"https://colab.research.google.com/assets/colab-badge.svg\" alt=\"Open In Colab\"/></a>"
      ]
    },
    {
      "cell_type": "markdown",
      "source": [
        "#SELECT FROM WHERE"
      ],
      "metadata": {
        "id": "rkcX_7AcJJce"
      }
    },
    {
      "cell_type": "code",
      "source": [
        "SELECT \n",
        "    orderNumber, \n",
        "    orderlinenumber, \n",
        "    quantityOrdered * priceEach as prices\n",
        "FROM\n",
        "    orderdetails\n",
        "ORDER BY \n",
        "   quantityOrdered * priceEach DESC;"
      ],
      "metadata": {
        "id": "oBxdXshL9gIZ"
      },
      "execution_count": null,
      "outputs": []
    },
    {
      "cell_type": "code",
      "source": [
        "SELECT \n",
        "    lastName, \n",
        "    firstName, \n",
        "    jobTitle, \n",
        "    officeCode\n",
        "FROM\n",
        "    employees\n",
        "WHERE\n",
        "    jobtitle = 'Sales Rep' OR \n",
        "    officeCode = 1 OR\n",
        "    officecode <= 4 OR\n",
        "    jobtitle <> 'Sales Rep' OR\n",
        "    reportsTo IS NULL OR\n",
        "    officeCode IN (1 , 2, 3) OR\n",
        "    lastName LIKE '%son' OR\n",
        "    firstName LIKE 'a%' OR\n",
        "    lastName NOT LIKE 'B%' OR\n",
        "    officeCode BETWEEN 1 AND 3\n",
        "ORDER BY \n",
        "    officeCode , \n",
        "    jobTitle;"
      ],
      "metadata": {
        "id": "AILYwyln9grs"
      },
      "execution_count": null,
      "outputs": []
    },
    {
      "cell_type": "code",
      "source": [
        "SELECT DISTINCT\n",
        "    state, city\n",
        "FROM\n",
        "    customers\n",
        "WHERE\n",
        "    state IS NOT NULL\n",
        "ORDER BY \n",
        "    state, \n",
        "    city;"
      ],
      "metadata": {
        "id": "SUjmBXK651bq"
      },
      "execution_count": null,
      "outputs": []
    },
    {
      "cell_type": "code",
      "source": [
        "SELECT\n",
        "\tCONCAT_WS(', ', lastName, firstname) `Full name`\n",
        "FROM\n",
        "\temployees\n",
        "ORDER BY\n",
        "\t`Full name`;"
      ],
      "metadata": {
        "id": "TmaCfqn585kw"
      },
      "execution_count": null,
      "outputs": []
    },
    {
      "cell_type": "code",
      "source": [
        "SELECT COUNT(CustomerID) as Num, Country\n",
        "FROM Customers\n",
        "GROUP BY Country;"
      ],
      "metadata": {
        "id": "9HEVsbjX86IU"
      },
      "execution_count": null,
      "outputs": []
    },
    {
      "cell_type": "markdown",
      "source": [
        "#INNER JOIN LEFT JOIN"
      ],
      "metadata": {
        "id": "blriiYgyJRvK"
      }
    },
    {
      "cell_type": "code",
      "source": [
        "SELECT \n",
        "    productCode, \n",
        "    productName, \n",
        "    textDescription\n",
        "FROM\n",
        "    products\n",
        "INNER JOIN productlines  \n",
        "    ON products.productline = productlines.productline;"
      ],
      "metadata": {
        "id": "b8hnrh2x-zxs"
      },
      "execution_count": null,
      "outputs": []
    },
    {
      "cell_type": "code",
      "source": [
        "SELECT \n",
        "    productCode, \n",
        "    productName, \n",
        "    textDescription\n",
        "FROM\n",
        "    products\n",
        "INNER JOIN productlines USING (productline);"
      ],
      "metadata": {
        "id": "AWX8h3D6IuiN"
      },
      "execution_count": null,
      "outputs": []
    }
  ]
}